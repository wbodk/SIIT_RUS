{
 "cells": [
  {
   "cell_type": "markdown",
   "metadata": {},
   "source": [
    "# Priprema za prvi računarski kolokvijum\n",
    "Dat je skup podataka o zaposlenima. Cilj je napraviti model linearne regresije koji na osnovu podatak iz data/train.csv fajla predviđa platu.\n",
    "\n",
    "Kao metriku u zadacima koristiti *RMSE*, osim ako nije drugačije naznačeno.\n",
    "\n",
    "Uzeti pouzdanost od 95% za sve statističke testove, osim ako nije drugačije naznačeno."
   ]
  },
  {
   "cell_type": "markdown",
   "metadata": {},
   "source": [
    "**Zadatak 1.** <br>\n",
    "Napraviti model linearne regresije koji koristi sve atribute. \n",
    "Ispisati meru koju model ostvaruje.\n"
   ]
  },
  {
   "cell_type": "code",
   "execution_count": 2,
   "metadata": {},
   "outputs": [
    {
     "data": {
      "text/html": [
       "<div>\n",
       "<style scoped>\n",
       "    .dataframe tbody tr th:only-of-type {\n",
       "        vertical-align: middle;\n",
       "    }\n",
       "\n",
       "    .dataframe tbody tr th {\n",
       "        vertical-align: top;\n",
       "    }\n",
       "\n",
       "    .dataframe thead th {\n",
       "        text-align: right;\n",
       "    }\n",
       "</style>\n",
       "<table border=\"1\" class=\"dataframe\">\n",
       "  <thead>\n",
       "    <tr style=\"text-align: right;\">\n",
       "      <th></th>\n",
       "      <th>plata</th>\n",
       "      <th>zvanje</th>\n",
       "      <th>oblast</th>\n",
       "      <th>godina_doktor</th>\n",
       "      <th>godina_iskustva</th>\n",
       "      <th>pol Zenski</th>\n",
       "      <th>pol Muski</th>\n",
       "    </tr>\n",
       "  </thead>\n",
       "  <tbody>\n",
       "    <tr>\n",
       "      <th>0</th>\n",
       "      <td>77500</td>\n",
       "      <td>1.0</td>\n",
       "      <td>0</td>\n",
       "      <td>NaN</td>\n",
       "      <td>2</td>\n",
       "      <td>1</td>\n",
       "      <td>0</td>\n",
       "    </tr>\n",
       "    <tr>\n",
       "      <th>1</th>\n",
       "      <td>142253</td>\n",
       "      <td>3.0</td>\n",
       "      <td>1</td>\n",
       "      <td>49.0</td>\n",
       "      <td>60</td>\n",
       "      <td>0</td>\n",
       "      <td>1</td>\n",
       "    </tr>\n",
       "    <tr>\n",
       "      <th>2</th>\n",
       "      <td>124714</td>\n",
       "      <td>NaN</td>\n",
       "      <td>1</td>\n",
       "      <td>23.0</td>\n",
       "      <td>15</td>\n",
       "      <td>0</td>\n",
       "      <td>1</td>\n",
       "    </tr>\n",
       "    <tr>\n",
       "      <th>3</th>\n",
       "      <td>147765</td>\n",
       "      <td>3.0</td>\n",
       "      <td>1</td>\n",
       "      <td>45.0</td>\n",
       "      <td>45</td>\n",
       "      <td>0</td>\n",
       "      <td>1</td>\n",
       "    </tr>\n",
       "    <tr>\n",
       "      <th>4</th>\n",
       "      <td>106294</td>\n",
       "      <td>NaN</td>\n",
       "      <td>0</td>\n",
       "      <td>21.0</td>\n",
       "      <td>8</td>\n",
       "      <td>0</td>\n",
       "      <td>1</td>\n",
       "    </tr>\n",
       "  </tbody>\n",
       "</table>\n",
       "</div>"
      ],
      "text/plain": [
       "    plata  zvanje  oblast  godina_doktor  godina_iskustva  pol Zenski  \\\n",
       "0   77500     1.0       0            NaN                2           1   \n",
       "1  142253     3.0       1           49.0               60           0   \n",
       "2  124714     NaN       1           23.0               15           0   \n",
       "3  147765     3.0       1           45.0               45           0   \n",
       "4  106294     NaN       0           21.0                8           0   \n",
       "\n",
       "   pol Muski  \n",
       "0          0  \n",
       "1          1  \n",
       "2          1  \n",
       "3          1  \n",
       "4          1  "
      ]
     },
     "execution_count": 2,
     "metadata": {},
     "output_type": "execute_result"
    }
   ],
   "source": [
    "import pandas as pd\n",
    "from sklearn.model_selection import train_test_split\n",
    "from utils_nans1 import *\n",
    "\n",
    "# učitavamo podatke\n",
    "df = pd.read_csv('data/train.csv', sep=',')\n",
    "df.head()"
   ]
  },
  {
   "cell_type": "code",
   "execution_count": 2,
   "metadata": {},
   "outputs": [
    {
     "name": "stdout",
     "output_type": "stream",
     "text": [
      "0.7625052975730555\n"
     ]
    }
   ],
   "source": [
    "# Pre treniranja modela moramo rešiti nedostajuće vrednosti.\n",
    "# Najlakši način je da izbacimo sve redove.\n",
    "df = df.dropna()\n",
    "\n",
    "# fitujemo model (tražimo parametre)\n",
    "x = df.drop(columns=['plata'])\n",
    "y = df['plata']\n",
    "model = get_fitted_model(x, y)\n",
    "\n",
    "# prijavljujemo metriku na test skupu\n",
    "df_test = pd.read_csv('data/test.csv', sep=',')\n",
    "x_test = df_test.drop(columns=['plata'])\n",
    "y_test = df_test['plata']\n",
    "test_rmse = get_rsquared(model, x_test, y_test)\n",
    "print(test_rmse)"
   ]
  },
  {
   "cell_type": "markdown",
   "metadata": {},
   "source": [
    "**Zadatak 2.** <br>\n",
    "Kada zaposleni dobije unapređenje (npr. prešao je sa pozicije 1 na poziciju 2) koliko minimalno i maksimalno povećanje plate očekuje?\n",
    "Obrazložiti da li su validne nađene vrednosti. "
   ]
  },
  {
   "cell_type": "markdown",
   "metadata": {},
   "source": [
    "Objašnjenje:\n",
    "Prema trenutnom regresionom modelu, parametar uz promenljivu zvanje je približno ~ 24480 (vidi se iz poziva metode `summary()`). To znači da se `plata` u proseku poveća za 24480$ kada se `zvanje` poveća za 1 (zaposleni je dobio unpaređenje).\n",
    "Zadatak pita za minimalno i maksimalno povećanje plate, kada se `zvanje` poveća za 1. Zapravo nas pita kolika je minimalna i maksimalna vrednost parametra koji stoji uz `zvanje`. Te dve vrednosti su **interval poverenja** za promenljivu `zvanje`. Treba da nađemo interval poverenja za tu promenljivu. Da nađemo minimlano i maksimalno povećanje plate pozivamo: `get_conf_interval(model, 'zvanje', alpha=0.05)`.\n",
    "Nakon poziva metode vidimo da je minimalno povećanje plate ~ 14000$, a maksimalno ~ 24000$. \n",
    "\n",
    "Ipak, ove vrednosti nisu validne (nisu pouzdane). Teorija kaže da su intervali poverenja validni ako je zadovoljena pretpostavka o nezavisnosti grešaka. U našem primeru pretpostavka nije zadovoljena pa ni nađene vrednosti nisu validne."
   ]
  },
  {
   "cell_type": "code",
   "execution_count": 4,
   "metadata": {},
   "outputs": [
    {
     "name": "stdout",
     "output_type": "stream",
     "text": [
      "13999.72\n",
      "24289.69\n",
      "vrednosti nisu validne\n"
     ]
    }
   ],
   "source": [
    "# tražimo min i maks vrednosti\n",
    "min_expected_raise, max_expected_raise = get_conf_interval(model, 'zvanje', alpha=0.05)\n",
    "print(f'{min_expected_raise:.2f}')\n",
    "print(f'{max_expected_raise:.2f}')\n",
    "\n",
    "# provera da li su min i maks vrednosti validne\n",
    "autocorrelation, _ = independence_of_errors_assumption(model, sm.add_constant(x), y, plot=False)\n",
    "if autocorrelation is None:\n",
    "    print('vrednosti su validne, jer je zadovoljena pretpostavka o nezavisnosti gresaka')\n",
    "else:\n",
    "    print('vrednosti nisu validne')"
   ]
  },
  {
   "cell_type": "markdown",
   "metadata": {},
   "source": [
    "**Zadatak 3.** <br>\n",
    "Unaprediti model tako da su sve pretpostavke zadovoljene i ostvaruje RMSE < `11 170`. Koristiti *train/val* podelu u odnosu: *80/20*. Ispisati meru koju model ostvaruje.\n",
    "\n",
    "*Napomena: koristiti `random state = 42` (kako bi se rezultati mogli reprodukovati).*"
   ]
  },
  {
   "cell_type": "markdown",
   "metadata": {},
   "source": [
    "Objašnjenje: \n",
    "1. Treba da se setimo naprednijih metoda za nedostajuće vrednosti umesto običnog brisanja redova (koje smo iskoristili na početku). Tako smo ovde koristili interpolaciju jer daje bolje rezultate (uvek treba isprobati različite metode).\n",
    "\n",
    "2. Treba porazmisliti da li nam je neka kolona suvišna (koristimo vrednosti t-testa). Gledajući vrednosti možemo zaključiti da kolone za pol ne utiču na platu, pa te kolone izbacujemo => i dobijamo bolju RMSE meru.\n",
    "Takođe, bitno je bar jednu kolonu za pol izbaciti kako ne bismo imali savršenu kolinearnost (kako bi zadovoljili sve pretpostavke, pa tako i pretpostavku o savršenoj kolinearnosti).\n",
    "\n",
    "3. Podatke iz *train.csv* fajla delimo na trening i validacioni skup pozivom metode `train_test_split`. Bitno je da fitujemo model na trening skupu. Da nađemo najbolji model, gledamo meru nad validacionim skupom gde je cilj da dobijemo što manju RMSE meru.\n",
    "\n",
    "4. Obavezno prijavljujemo meru na test skupu! To je rezultat našeg modela. Kada smo našli dobre parametre modela, ova mera će biti ispod 11 700 (konkretna vrednost je ~ 11 200).\n",
    "\n",
    "5. Svaki put kada promenimo parametre modela moramo proveriti da li su sve pretpostavke zadovoljene (tako traži zadatak). U ovom primeru su zadovoljene sve pretpostavke osim pretpostavke o normalnosti grešaka. Ovu pretpostavku možemo zanemariti kada imamo puno podataka (što je ovde i slučaj jer imamo > 150 podataka)."
   ]
  },
  {
   "cell_type": "code",
   "execution_count": 4,
   "metadata": {},
   "outputs": [
    {
     "name": "stdout",
     "output_type": "stream",
     "text": [
      "False\n",
      "validation rmse: 21029.75\n",
      "test rmse: 11165.79\n"
     ]
    }
   ],
   "source": [
    "# učitamo podatke\n",
    "df = pd.read_csv('data/train.csv', sep=',')\n",
    "# interpolacija umesto brisanja vrednosti zadovoljava sve pretpostavke\n",
    "df['zvanje'] = df['zvanje'].interpolate(method='spline', order=3, limit_direction='both')\n",
    "df['godina_doktor'] = df['godina_doktor'].interpolate(method='linear', limit_direction='both')\n",
    "\n",
    "# brišemo kolonu pol Muski (ili pol Zenski) kako ne bi imali savršenu kolinearnost\n",
    "df = df.drop(columns=['pol Muski', 'pol Zenski'])\n",
    "\n",
    "# delimo podatke u odnosu 80-20\n",
    "x = df.drop(columns=['plata'])\n",
    "y = df['plata']\n",
    "x_train, x_val, y_train, y_val = train_test_split(x, y, train_size=0.8, shuffle=True, random_state=42)\n",
    "\n",
    "# fitujemo model\n",
    "model = get_fitted_model(x_train,y_train)\n",
    "\n",
    "# proveravamo da li su zadovoljenepretpostavke (pogledaj objašnjenje)\n",
    "print(are_assumptions_satisfied(model, x_train, y_train))\n",
    "\n",
    "# gledamo meru na validacionom skupu kako bi našli najbolji model\n",
    "val_rmse = get_rmse(model, x_val, y_val)\n",
    "print(f'validation rmse: {val_rmse:.2f}')\n",
    "\n",
    "# prijavljujemo meru na test skupu\n",
    "df_test = pd.read_csv('data/test.csv', sep=',')\n",
    "x_test = df_test.drop(columns=['plata', 'pol Muski', 'pol Zenski'])\n",
    "y_test = df_test['plata']\n",
    "test_rmse = get_rmse(model, x_test, y_test)\n",
    "print(f'test rmse: {test_rmse:.2f}')"
   ]
  },
  {
   "cell_type": "markdown",
   "metadata": {},
   "source": [
    "**Zadatak 4.** <br>\n",
    "Da li je bar jedna nezavisna promenljiva u linearnoj vezi sa platom? Obrazloži odgovor.\n"
   ]
  },
  {
   "cell_type": "code",
   "execution_count": 20,
   "metadata": {},
   "outputs": [
    {
     "name": "stdout",
     "output_type": "stream",
     "text": [
      "                            OLS Regression Results                            \n",
      "==============================================================================\n",
      "Dep. Variable:                  plata   R-squared:                       0.463\n",
      "Model:                            OLS   Adj. R-squared:                  0.454\n",
      "Method:                 Least Squares   F-statistic:                     50.04\n",
      "Date:                Tue, 28 Nov 2023   Prob (F-statistic):           2.52e-30\n",
      "Time:                        14:38:28   Log-Likelihood:                -2688.8\n",
      "No. Observations:                 237   AIC:                             5388.\n",
      "Df Residuals:                     232   BIC:                             5405.\n",
      "Df Model:                           4                                         \n",
      "Covariance Type:            nonrobust                                         \n",
      "===================================================================================\n",
      "                      coef    std err          t      P>|t|      [0.025      0.975]\n",
      "-----------------------------------------------------------------------------------\n",
      "const            4.407e+04   5502.727      8.009      0.000    3.32e+04    5.49e+04\n",
      "zvanje           1.948e+04   2328.114      8.366      0.000    1.49e+04    2.41e+04\n",
      "oblast           1.393e+04   2745.621      5.075      0.000    8524.749    1.93e+04\n",
      "godina_doktor     763.8809    173.639      4.399      0.000     421.771    1105.991\n",
      "godina_iskustva  -154.7464    167.220     -0.925      0.356    -484.210     174.718\n",
      "==============================================================================\n",
      "Omnibus:                       13.597   Durbin-Watson:                   1.863\n",
      "Prob(Omnibus):                  0.001   Jarque-Bera (JB):               14.245\n",
      "Skew:                           0.572   Prob(JB):                     0.000807\n",
      "Kurtosis:                       3.364   Cond. No.                         144.\n",
      "==============================================================================\n",
      "\n",
      "Notes:\n",
      "[1] Standard Errors assume that the covariance matrix of the errors is correctly specified.\n"
     ]
    }
   ],
   "source": [
    "# pozivom model.summary() vidimo da je p-vrednost F-testa 2.44e-30 što je manje od 5%.\n",
    "# Zato smo 95% sigurni da bar jedna nezavisna promenljiva ima linearnu vezu sa platom.\n",
    "print(model.summary())"
   ]
  },
  {
   "cell_type": "markdown",
   "metadata": {},
   "source": [
    "**Zadatak 5.** <br>\n",
    "Objasni meru prilagodjeni $r^2$."
   ]
  },
  {
   "cell_type": "code",
   "execution_count": 6,
   "metadata": {},
   "outputs": [],
   "source": [
    "# Ovo pitanje je čisto teorijsko pitanje. Odgovor na pitanje se može pronaći \n",
    "# u materijalima za predavanja i vezbe kada se obradjivala visestruka regresija."
   ]
  }
 ],
 "metadata": {
  "kernelspec": {
   "display_name": "Python 3",
   "language": "python",
   "name": "python3"
  },
  "language_info": {
   "codemirror_mode": {
    "name": "ipython",
    "version": 3
   },
   "file_extension": ".py",
   "mimetype": "text/x-python",
   "name": "python",
   "nbconvert_exporter": "python",
   "pygments_lexer": "ipython3",
   "version": "3.10.12"
  }
 },
 "nbformat": 4,
 "nbformat_minor": 2
}
