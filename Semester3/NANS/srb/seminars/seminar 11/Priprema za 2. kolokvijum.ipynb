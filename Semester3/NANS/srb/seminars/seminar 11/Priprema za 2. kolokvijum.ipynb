{
 "cells": [
  {
   "cell_type": "markdown",
   "metadata": {},
   "source": [
    "# Priprema za drugi računarski kolokvijum"
   ]
  },
  {
   "cell_type": "markdown",
   "metadata": {},
   "source": [
    "**Zadatak 1.** <br>\n",
    "Učitaj vremensku seriju za broj putnika iz fajla: [data/lowcost-airline-passengers.csv](data/lowcost-airline-passengers.csv). Ova low-cost kompanija ostvaruje veliki promet putnika, ali ne vodi mnogo računa o podacima. Prvo nadomesti nedostajuće vrednosti koristeći AR model. Zatim, skup podataka podeli na trening i test u odnosu 80:20 i nađi najbolji ARIMA model koji predviđa broj putnika. Ispisati MSE meru koju model ostvaruje. Na kraju nacrtati modifikovanu vremensku seriju i predikcije ARIMA modela (nad test skupom) na grafiku.\n",
    "\n",
    "Uzeti pouzdanost od 95% za sve statističke testove, osim ako nije drugačije naznačeno."
   ]
  },
  {
   "cell_type": "markdown",
   "metadata": {},
   "source": [
    "**Zadatak 2.** <br>\n",
    "Učitaj podatke o muzici i filmovima iz fajla: [data/responses.csv](data/responses.csv) (podaci o muzici i filmovima su prvih 31 kolona). \n",
    "Skup podataka podeli na trening i test u odnosu 80:20.\n",
    "Zatim primeniti PCA nad podacima tako da se zadrži varijansa u opsegu od 49% do 53%.\n",
    "Koristeći transformisane podatke napraviti regresioni koji predviđa atribut `Movies` (koliko osoba voli da gleda filmove).\n",
    "Na kraju ispisati prilagođeni $r^2$ meru koju model ostvaruje.\n",
    "Rastumačiti dva najuticajnija atributa za regresioni model.\n",
    "\n",
    "Uzeti pouzdanost od 95% za sve statističke testove, osim ako nije drugačije naznačeno.\n",
    "\n",
    "*Napomena: koristiti `random state = 42` (kako bi se rezultati mogli reprodukovati).*\n"
   ]
  },
  {
   "cell_type": "markdown",
   "metadata": {},
   "source": [
    "**Zadatak 3.** <br>\n",
    "Teorijski/praktični."
   ]
  },
  {
   "cell_type": "markdown",
   "metadata": {},
   "source": [
    "**Zadatak 4.** <br>\n",
    "Teorijski/praktični."
   ]
  }
 ],
 "metadata": {
  "kernelspec": {
   "display_name": "Python 3",
   "language": "python",
   "name": "python3"
  },
  "language_info": {
   "codemirror_mode": {
    "name": "ipython",
    "version": 3
   },
   "file_extension": ".py",
   "mimetype": "text/x-python",
   "name": "python",
   "nbconvert_exporter": "python",
   "pygments_lexer": "ipython3",
   "version": "3.10.7"
  }
 },
 "nbformat": 4,
 "nbformat_minor": 2
}
