{
 "cells": [
  {
   "cell_type": "markdown",
   "metadata": {},
   "source": [
    "# Priprema za prvi računarski kolokvijum\n",
    "Dat je skup podataka o zaposlenima. Cilj je napraviti model linearne regresije koji na osnovu podatak iz data/train.csv fajla predviđa platu.\n",
    "\n",
    "Kao metriku u zadacima koristiti *RMSE*, osim ako nije drugačije naznačeno.\n",
    "\n",
    "Uzeti pouzdanost od 95% za sve statističke testove, osim ako nije drugačije naznačeno."
   ]
  },
  {
   "cell_type": "markdown",
   "metadata": {},
   "source": [
    "**Zadatak 1.** <br>\n",
    "Napraviti model linearne regresije koji koristi sve atribute. \n",
    "Ispisati meru koju model ostvaruje.\n"
   ]
  },
  {
   "cell_type": "markdown",
   "metadata": {},
   "source": [
    "**Zadatak 2.** <br>\n",
    "Kada zaposleni dobije unapređenje (npr. prešao je sa pozicije 1 na poziciju 2) koliko minimalno i maksimalno povećanje plate očekuje?\n",
    "Obrazložiti da li su validne nađene vrednosti. "
   ]
  },
  {
   "cell_type": "markdown",
   "metadata": {},
   "source": [
    "**Zadatak 3.** <br>\n",
    "Unaprediti model tako da su sve pretpostavke zadovoljene i ostvaruje RMSE < `11 170`. Koristiti *train/val* podelu u odnosu: *80/20*. Ispisati meru koju model ostvaruje.\n",
    "\n",
    "*Napomena: koristiti `random state = 42` (kako bi se rezultati mogli reprodukovati).*"
   ]
  },
  {
   "cell_type": "markdown",
   "metadata": {},
   "source": [
    "**Zadatak 4.** <br>\n",
    "Da li je bar jedna nezavisna promenljiva u linearnoj vezi sa platom? Obrazloži odgovor.\n"
   ]
  },
  {
   "cell_type": "markdown",
   "metadata": {},
   "source": [
    "**Zadatak 5.** <br>\n",
    "Objasni meru prilagodjeni $r^2$."
   ]
  }
 ],
 "metadata": {
  "kernelspec": {
   "display_name": "Python 3",
   "language": "python",
   "name": "python3"
  },
  "language_info": {
   "codemirror_mode": {
    "name": "ipython",
    "version": 3
   },
   "file_extension": ".py",
   "mimetype": "text/x-python",
   "name": "python",
   "nbconvert_exporter": "python",
   "pygments_lexer": "ipython3",
   "version": "3.10.12"
  }
 },
 "nbformat": 4,
 "nbformat_minor": 2
}
