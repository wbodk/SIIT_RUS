{
  "cells": [
    {
      "cell_type": "markdown",
      "metadata": {
        "id": "xYJv53FDl288"
      },
      "source": [
        "### **JEDNODIMENZIONE NUMERIČKE METODE**\n",
        "\n",
        "\n",
        "\n",
        "\n",
        "\n",
        "\n"
      ]
    },
    {
      "cell_type": "code",
      "execution_count": 6,
      "metadata": {
        "id": "nefFXDYHmAxK"
      },
      "outputs": [],
      "source": [
        "import numpy as np\n",
        "import matplotlib.pyplot as plt\n",
        "import math"
      ]
    },
    {
      "cell_type": "markdown",
      "metadata": {
        "id": "cQdK__13wlMW"
      },
      "source": [
        "**1. GRADIJENTNE METODE**\n",
        "\n",
        "Jednodimenzione gradijentne metode predstavljaju optimizacione algoritme koji nam omogućavaju da pronađemo stacionarne tačke funkcije *f(x)*, pod uslovom da je funkcija diferencijabilna do reda koji nam je potreban."
      ]
    },
    {
      "cell_type": "code",
      "execution_count": 7,
      "metadata": {
        "id": "eDoYpDgPvdIZ"
      },
      "outputs": [],
      "source": [
        "def func(x):\n",
        "  f = x**2 - np.sin(2*x)\n",
        "  return f\n",
        "\n",
        "def dfunc(x):\n",
        "  f = 2*x - 2*np.cos(2*x)\n",
        "  return f\n",
        "\n",
        "def ddfunc(x):\n",
        "  f = 2 + 4*np.sin(2*x)\n",
        "  return f"
      ]
    },
    {
      "cell_type": "markdown",
      "metadata": {
        "id": "EGhh3K29vKs2"
      },
      "source": [
        "**1.1 NJUTN-RAPSONOV METOD**\n",
        "\n",
        "Njutn-Rapsonova iterativna formula za jednodimenzioni problem može se izraziti matematički kao:\n",
        "\\begin{align}\n",
        "        x_{n+1} = x_n - \\frac{f'(x_n)}{f''(x_n)},\\\\\n",
        "\\end{align}\n",
        "gde $x_{n+1}$ vrednost naredne iteracije, $x_n$ trenutna vrednost, $f'(x_n)$ prvi izvod funkcije (gradijent), kao i $f''(x_n)$ drugi izvod funkcije u tački $x_n$. Ovaj proces se ponavlja iterativno sve dok se ne zadovolji određeni uslovi zaustavljanja. Najčešće ćemo se zaustaviti kada vrednosti iteracija postanu veoma biliske, odnosno:\n",
        "\\begin{align}\n",
        "        |x_n - x_{n-1}|< ϵ, \\\\\n",
        "\\end{align}\n",
        "gde $ϵ$ predstavlja toleranciju funkcije.Kao dodatni kriterijum za zaustavljanje može se koristiti i tzv. *prisilan kraj*. Ovakav način zaustavljanja podrazumeva da se unapred odredi maksimalan broj iteracija, jer ukoliko se ne izabere dobro početno pogađanje algoritam može da divergira i prvobitni kriterijum nikad neće biti zadovoljen.\n",
        "\n",
        "\n"
      ]
    },
    {
      "cell_type": "code",
      "execution_count": 8,
      "metadata": {
        "id": "O75F4kwMmkNZ"
      },
      "outputs": [],
      "source": [
        "def njutn_rapsonov_metod(x0, epsilon):\n",
        "    x_novo = x0\n",
        "    x_pre = math.inf\n",
        "\n",
        "    x_niz = [x_novo]\n",
        "\n",
        "    iter = 0\n",
        "    max_iter = 30\n",
        "\n",
        "    while (abs(x_pre - x_novo) > epsilon):\n",
        "        iter += 1\n",
        "        x_pre = x_novo\n",
        "        x_novo = x_pre - dfunc(x_pre)/ddfunc(x_pre)\n",
        "\n",
        "        x_niz.append(x_novo)\n",
        "\n",
        "        if max_iter <= iter:\n",
        "          break\n",
        "\n",
        "    xopt = x_novo\n",
        "    fopt = func(xopt)\n",
        "    return xopt, fopt, iter, x_niz"
      ]
    },
    {
      "cell_type": "code",
      "execution_count": null,
      "metadata": {
        "colab": {
          "base_uri": "https://localhost:8080/",
          "height": 467
        },
        "id": "FCvoGutExZNj",
        "outputId": "00f5b4dc-1d16-40b4-82c5-e61bb85cf11f"
      },
      "outputs": [],
      "source": [
        "[x_opt, f_opt, iter, x_niz] = njutn_rapsonov_metod(x0=-0.5, epsilon=0.1)\n",
        "\n",
        "x = np.linspace(-3, 3, 1000)\n",
        "f = np.linspace(0, 0, len(x))\n",
        "for i in range(0, len(x), 1):\n",
        "    f[i] = func(x[i])\n",
        "\n",
        "plt.plot(x, f, 'k--', label='f(x)')\n",
        "\n",
        "for i in range(0, len(x_niz)-1):\n",
        "    plt.plot([x_niz[i], x_niz[i+1]], [func(x_niz[i] ), func(x_niz[i+1] )] , '-ob',  markersize=5, markeredgewidth=3)\n",
        "plt.plot(x_opt, f_opt, '-or', label='max[f(x)]', markersize=5, markeredgewidth=3)\n",
        "plt.grid(True)\n",
        "plt.show()\n",
        "print(f'Stacionarna tačka funkcije f(x) je u {x_opt} a optimalna vrednost f-je iznosi {f_opt}. Algoritam je izvršen u {iter} iteracija.')"
      ]
    },
    {
      "cell_type": "markdown",
      "metadata": {
        "id": "H3BR0NRQ5dNd"
      },
      "source": [
        "**1.2 METOD SEČICE**\n",
        "\n",
        "Osnovna razlika između metoda sečice i NJutn-Rapsonovog metoda je ta što se kod metoda sečice uvodi aproksimacija za drugi izvod:\n",
        "\\begin{align}\n",
        "        f''(x_n) = \\frac{f'(x_n) - f'(x_{n-1})}{x_n - x_{n-1}},\\\\\n",
        "\\end{align}\n",
        "pa iterativna formula metoda sečice dobija sledeći oblik:\n",
        "\\begin{align}\n",
        "        x_{n+1} = x_n - f'(x_n)\\frac{x_n - x_{n-1}}{f'(x_n)-f'(x_{n-1})}.\\\\\n",
        "\\end{align}\n",
        "Kao što se iz formule može videti, sada nije potrebno da funkcija bude diferencijabilna do drugog reda ali su nam sada neophodne dve početne tačke. Izborom dobrog početnog intervala (početnih tačaka) omogućavamo algoritmu da konvergira k.a optimumu.Ovaj pristup može smanjiti brzinu konvergencije u poređenju s NJutn-Rapsonovim metodom."
      ]
    },
    {
      "cell_type": "code",
      "execution_count": 10,
      "metadata": {
        "id": "3biIaqVc5iWc"
      },
      "outputs": [],
      "source": [
        "def metod_secice(x0, x1, epsilon):\n",
        "    x_pre = x0\n",
        "    x_novo = x1\n",
        "\n",
        "    x_niz = [x_pre, x_novo]\n",
        "\n",
        "    iter = 0\n",
        "\n",
        "    while(abs(x_novo-x_pre) > epsilon):\n",
        "        iter += 1\n",
        "        x_ppre = x_pre\n",
        "        x_pre = x_novo\n",
        "        x_novo = x_pre-dfunc(x_pre)*(x_pre-x_ppre)/(dfunc(x_pre)-dfunc(x_ppre))\n",
        "\n",
        "        x_niz.append(x_novo)\n",
        "\n",
        "    x_opt = x_novo\n",
        "    f_opt = func(x_opt)\n",
        "    return x_opt, f_opt, iter, x_niz"
      ]
    },
    {
      "cell_type": "code",
      "execution_count": null,
      "metadata": {
        "colab": {
          "base_uri": "https://localhost:8080/",
          "height": 447
        },
        "id": "eYOiBDTBBUWl",
        "outputId": "68e0cbd3-b889-4a80-fd2d-42de66222161"
      },
      "outputs": [],
      "source": [
        "[x_opt, f_opt, iter, x_niz] = metod_secice(x0=-1, x1=0, epsilon=0.1)\n",
        "\n",
        "x = np.linspace(-3, 3, 1000)\n",
        "f = np.linspace(0, 0, len(x))\n",
        "for i in range(0, len(x), 1):\n",
        "    f[i] = func(x[i])\n",
        "\n",
        "plt.plot(x, f, 'k--', label='f(x)')\n",
        "\n",
        "for i in range(0, len(x_niz)-1):\n",
        "    plt.plot([x_niz[i], x_niz[i+1]], [func(x_niz[i] ), func(x_niz[i+1] )] , '-ob',  markersize=5, markeredgewidth=3)\n",
        "plt.plot(x_opt, f_opt, '-or', label='max[f(x)]', markersize=5, markeredgewidth=3)\n",
        "plt.grid(True)\n",
        "plt.show()\n",
        "print(f'Optimum funkcije f(x) je u tački {x_opt} i iznosi {f_opt}. Algoritam je izvršen u {iter} iteracija.')"
      ]
    },
    {
      "cell_type": "markdown",
      "metadata": {
        "id": "7mnDZ9xgJIVO"
      },
      "source": []
    },
    {
      "cell_type": "markdown",
      "metadata": {
        "id": "18yoPnAz82_h"
      },
      "source": [
        "**2. METODE DIREKTNOG PRETRAŽIVANJA**\n",
        "\n",
        "Metode direktnog pretraživanja zahtevaju da kriterijum bude unimodalna funkcija. Na taj način se obezbeđuje da smanjenjem interval pretrage nećemo izgubiti optimum."
      ]
    },
    {
      "cell_type": "markdown",
      "metadata": {
        "id": "EilqDhm2WbOP"
      },
      "source": [
        "**2.1 FIBONAČIJEV METOD**\n",
        "\n",
        "Fibonačijev metod traženja minimuma jednodimenzionalne funkcije je numerička metoda koja koristi niz Fibonačijevih brojeva kako bi aproksimirala poziciju minimuma (ili maksimuma) funkcije. Na samom početku generiše se Fibonačijev niz dok dužina početnog intervala ne postane manja od zadate tolerancije $ϵ$, odnosno kriterijum zaustavljanja postaje:\n",
        "\\begin{align}\n",
        "        F_n > \\frac{b_0-a_0}{ϵ}.\\\\\n",
        "\\end{align}\n",
        "Redni broj Fibonačijevog broja u nizu, $n$, koji zadovoljava kriterijum zaustavljanja, predstavlja ujedno i broj iteracija.\n",
        "Tokom svake iteracije, potrebno je izračunati i nove tačke unutar intervala i to na sledeći način:\n",
        "\\begin{align}\n",
        "        x_1 &= a + \\frac{F_{n-2}}{F_n}(b-a)\\\\\n",
        "        x_2 &= a + b - x_1.\\\\\n",
        "\\end{align}\n",
        "Koji će se opseg odbaciti zavisi od problema koji se rešava, minimizacije ili maksimizacije funkcije."
      ]
    },
    {
      "cell_type": "code",
      "execution_count": null,
      "metadata": {
        "id": "3nHQSms8ZbZz"
      },
      "outputs": [],
      "source": [
        "def fibonacijev_broj(n):\n",
        "    if n == 1 or n == 2:\n",
        "        f = 1\n",
        "    else:\n",
        "        fp = 1\n",
        "        fpp = 1\n",
        "        for i in range(3, n+1):\n",
        "            f = fp + fpp\n",
        "            fpp = fp\n",
        "            fp = f\n",
        "    return f"
      ]
    },
    {
      "cell_type": "code",
      "execution_count": null,
      "metadata": {
        "id": "BxeFzBOpWg7N"
      },
      "outputs": [],
      "source": [
        "def fibonacijev_metod(a, b, epsilon):\n",
        "\n",
        "    n = 1\n",
        "    while ((b-a)/epsilon) > fibonacijev_broj(n):\n",
        "        n += 1\n",
        "\n",
        "    x1 = a + fibonacijev_broj(n-2)/fibonacijev_broj(n)*(b-a)\n",
        "    x2 = a + b - x1\n",
        "\n",
        "    for i in range(2, n+1):\n",
        "        if func(x1) <= func(x2):\n",
        "            b = x2\n",
        "            x1 = a + fibonacijev_broj(n-2)/fibonacijev_broj(n)*(b-a)\n",
        "            x2 = a + b - x1\n",
        "        else:\n",
        "            a = x1\n",
        "            x1 = a + fibonacijev_broj(n-2)/fibonacijev_broj(n)*(b-a)\n",
        "            x2 = a + b - x1\n",
        "\n",
        "    if func(x1) < func(x2):\n",
        "        x_opt = x1\n",
        "        f_opt = func(x_opt)\n",
        "    else:\n",
        "        x_opt = x2\n",
        "        f_opt = func(x_opt)\n",
        "\n",
        "    return x_opt, f_opt, n"
      ]
    },
    {
      "cell_type": "code",
      "execution_count": null,
      "metadata": {
        "colab": {
          "base_uri": "https://localhost:8080/",
          "height": 468
        },
        "id": "D64Jnq7RZkYV",
        "outputId": "7b392f20-0808-48e4-f7ba-ccfc9741b961"
      },
      "outputs": [],
      "source": [
        "[x_opt, f_opt, iter] = fibonacijev_metod(a=-1, b=2, epsilon=0.1)\n",
        "\n",
        "x = np.linspace(-1, 1, 1000)\n",
        "f = np.linspace(0, 0, len(x))\n",
        "for i in range(0, len(x), 1):\n",
        "    f[i] = func(x[i])\n",
        "\n",
        "plt.plot(x, f, 'k--', label='f(x)')\n",
        "plt.plot(x_opt, f_opt, '-or', label='max[f(x)]', markersize=5, markeredgewidth=3)\n",
        "plt.grid(True)\n",
        "plt.show()\n",
        "print(f'Minimum funkcije f(x) je u tački {x_opt} i iznosi {f_opt}. Algoritam je izvršen u {iter} iteracija. Fibonačijev broj je {fibonacijev_broj(iter)}')"
      ]
    },
    {
      "cell_type": "markdown",
      "metadata": {
        "id": "6ZVj6i-GWWK1"
      },
      "source": [
        "**2.2 METOD ZLATNOG PRESEKA**\n",
        "\n",
        "Ovaj metod je sličan Fibonačijevom metodu, ali ne koristi niz Fibonačijevih brojeva već konstantnu proporciju. Ideja ovog metoda je da podeli interval pretrage na dva dela u tački koja deli interval \"zlatnim presekom\". Da se primetiti da odnos $\\frac{F_{n-2}}{F_n}$ za velike Fibonačijeve brojeve je konstantan i ta konstanta iznosi oko 0.38196. Taj broj zapravo predstavlja \"zlatni presek\" i iznosi $c=\\frac{3-\\sqrt{5}}{2}$."
      ]
    },
    {
      "cell_type": "code",
      "execution_count": null,
      "metadata": {
        "id": "q3O9Tq4dSVHe"
      },
      "outputs": [],
      "source": [
        "def metod_zlatnog_preseka(a, b, epsilon):\n",
        "\n",
        "    c = (3 - math.sqrt(5)) / 2\n",
        "\n",
        "    x1 = a + c * (b - a)\n",
        "    x2 = a + b - x1\n",
        "    iter = 1\n",
        "\n",
        "    x_niz = []\n",
        "\n",
        "    while (b - a) > epsilon:\n",
        "        iter += 1\n",
        "        if func(x1) <= func(x2):\n",
        "            b = x2\n",
        "            x1 = a + c * (b - a)\n",
        "            x2 = a + b - x1\n",
        "        else:\n",
        "            a = x1\n",
        "            x1 = a + c * (b - a)\n",
        "            x2 = a + b - x1\n",
        "\n",
        "    if func(x1) < func(x2):\n",
        "      x_opt = x1\n",
        "      f_opt = func(x_opt)\n",
        "    else:\n",
        "      x_opt = x2\n",
        "      f_opt = func(x_opt)\n",
        "    return x_opt, f_opt, iter"
      ]
    },
    {
      "cell_type": "code",
      "execution_count": null,
      "metadata": {
        "colab": {
          "base_uri": "https://localhost:8080/",
          "height": 448
        },
        "id": "H4wKKbzvUvws",
        "outputId": "b2a5949d-3829-4f2a-9e7d-f13d051010ca"
      },
      "outputs": [],
      "source": [
        "[x_opt, f_opt, iter] = metod_zlatnog_preseka(a=-1, b=2, epsilon=0.1)\n",
        "\n",
        "x = np.linspace(-1, 1, 1000)\n",
        "f = np.linspace(0, 0, len(x))\n",
        "for i in range(0, len(x), 1):\n",
        "    f[i] = func(x[i])\n",
        "\n",
        "plt.plot(x, f, 'k--', label='f(x)')\n",
        "plt.plot(x_opt, f_opt, '-or', label='max[f(x)]', markersize=5, markeredgewidth=3)\n",
        "plt.grid(True)\n",
        "plt.show()\n",
        "print(f'Minimum funkcije f(x) je u tački {x_opt} i iznosi {f_opt}. Algoritam je izvršen u {iter} iteracija.')"
      ]
    },
    {
      "cell_type": "markdown",
      "metadata": {
        "id": "ULSn-Ury93wl"
      },
      "source": [
        "Za vežbu: Napisati algoritme koji traže maksimum."
      ]
    }
  ],
  "metadata": {
    "colab": {
      "provenance": []
    },
    "kernelspec": {
      "display_name": "Python 3",
      "name": "python3"
    },
    "language_info": {
      "name": "python"
    }
  },
  "nbformat": 4,
  "nbformat_minor": 0
}
