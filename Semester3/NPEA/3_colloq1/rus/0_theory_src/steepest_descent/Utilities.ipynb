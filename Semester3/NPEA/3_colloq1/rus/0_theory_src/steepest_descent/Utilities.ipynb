{
 "cells": [
  {
   "cell_type": "code",
   "execution_count": 1,
   "metadata": {},
   "outputs": [],
   "source": [
    "import matplotlib.pyplot as plt\n",
    "\n",
    "from matplotlib import cm\n",
    "from matplotlib.ticker import LinearLocator, FormatStrFormatter\n",
    "from matplotlib.pylab import rcParams\n",
    "from mpl_toolkits.mplot3d import Axes3D\n",
    "    \n",
    "import numpy as np"
   ]
  },
  {
   "cell_type": "code",
   "execution_count": 2,
   "metadata": {},
   "outputs": [],
   "source": [
    "rcParams['figure.figsize'] = (8.0, 8.0)\n"
   ]
  },
  {
   "cell_type": "code",
   "execution_count": 3,
   "metadata": {},
   "outputs": [],
   "source": [
    "def plot_run(fun, run, x1span, x2span, labels=None, connect_the_dots=False):\n",
    "    if not labels:\n",
    "        labels = []\n",
    "    for i in range(len(run)-len(labels)):\n",
    "        labels.append(f\"run {len(labels)+i}\")\n",
    "    colors = [\"k\", \"r\", \"b\", \"g\"]\n",
    "    X1, X2 = np.meshgrid(x1span, x2span)\n",
    "    Y = np.zeros(shape=X1.shape)\n",
    "    for i, x1 in enumerate(x1span):\n",
    "        for j, x2 in enumerate(x2span):\n",
    "            Y[i,j] = fun([x1, x2])\n",
    "    plt.contour(X1, X2, Y, levels=10)\n",
    "    for i, r in enumerate(run):\n",
    "        x1 = [x[0, 0] for x in r]\n",
    "        x2 = [x[1, 0] for x in r]\n",
    "        plt.plot(x1, x2, f\".{colors[i]}\", label=labels[i])\n",
    "        if connect_the_dots:\n",
    "            plt.plot(x1, x2, f\"--{colors[i]}\")\n",
    "    plt.axis(\"equal\")\n",
    "    plt.legend()"
   ]
  },
  {
   "cell_type": "code",
   "execution_count": 7,
   "metadata": {},
   "outputs": [],
   "source": [
    "def plot_criterion(fun, x1span, x2span, mesh=False, levels=10):\n",
    "    X1, X2 = np.meshgrid(x1span, x2span)\n",
    "    Y = np.zeros(shape=X1.shape)\n",
    "    for i, x1 in enumerate(x1span):\n",
    "        for j, x2 in enumerate(x2span):\n",
    "            Y[i,j] = fun([x1, x2])\n",
    "    if mesh:\n",
    "        fig = plt.figure()\n",
    "        ax = fig.add_subplot(projection = '3d')\n",
    "        surf = ax.plot_surface(X1, X2, Y, cmap=cm.coolwarm,\n",
    "                               linewidth=0, antialiased=False)\n",
    "        fig.colorbar(surf, shrink=0.5, aspect=5)\n",
    "    else:\n",
    "        fig, ax = plt.subplots()\n",
    "        cs = ax.contour(X1, X2, Y, levels=levels)\n",
    "        ax.clabel(cs, inline=1, fontsize=10)"
   ]
  },
  {
   "cell_type": "code",
   "execution_count": 8,
   "metadata": {},
   "outputs": [],
   "source": [
    "def construct_matrix(lambda1, lambda2, theta):\n",
    "    R = np.asmatrix([[np.cos(theta), -np.sin(theta)], [np.sin(theta), np.cos(theta)]])\n",
    "    L = np.asmatrix([[lambda1, 0], [0, lambda2]])\n",
    "    return np.linalg.inv(R) @ L @ R"
   ]
  },
  {
   "cell_type": "code",
   "execution_count": 9,
   "metadata": {},
   "outputs": [],
   "source": [
    "def demo_criterion(x):\n",
    "    return 1.5*x[0]**2 + x[1]**2 - 2*x[0]*x[1] + 2*x[0]**3 + 0.5*x[0]**4\n",
    "\n",
    "def grad_demo_criterion(x):\n",
    "    x = np.array(x).reshape(np.size(x))\n",
    "    return np.asarray([[3 - 2*x[1] + 6*x[0]**2 + 2*x[0]**3], [2*x[1] - 2*x[0]]])"
   ]
  }
 ],
 "metadata": {
  "kernelspec": {
   "display_name": "venv",
   "language": "python",
   "name": "python3"
  },
  "language_info": {
   "codemirror_mode": {
    "name": "ipython",
    "version": 3
   },
   "file_extension": ".py",
   "mimetype": "text/x-python",
   "name": "python",
   "nbconvert_exporter": "python",
   "pygments_lexer": "ipython3",
   "version": "3.11.6"
  }
 },
 "nbformat": 4,
 "nbformat_minor": 2
}
